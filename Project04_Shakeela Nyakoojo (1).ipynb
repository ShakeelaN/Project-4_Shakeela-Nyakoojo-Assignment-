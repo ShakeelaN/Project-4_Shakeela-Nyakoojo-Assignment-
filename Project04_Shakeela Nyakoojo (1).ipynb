{
 "cells": [
  {
   "cell_type": "markdown",
   "id": "cddf5de3-a9f3-4471-bbaf-aca41a70ce89",
   "metadata": {},
   "source": [
    "#### INST326 OOP Project 04"
   ]
  },
  {
   "cell_type": "markdown",
   "id": "2bb7f115-9eba-4f29-918e-b016e6a7edc8",
   "metadata": {},
   "source": [
    "Rename this notebook, replacing \"_Assignment\" with \"_YourName\"<br>\n",
    "Insert Signature Block Here"
   ]
  },
  {
   "cell_type": "markdown",
   "id": "176a3739-9a16-4655-8cbb-a4cbfdf17226",
   "metadata": {},
   "source": [
    "You may work as an individual on **ONE** of the following projects, **OR** if you want to work as a group, contact Dr. Dempwolf for a project assignment. That group assignment will be part of an ongoing research project analyzing innovation ecosystems. "
   ]
  },
  {
   "cell_type": "markdown",
   "id": "8ee05bdb-db2d-41c2-9f23-3af75d058612",
   "metadata": {},
   "source": [
    "### Individual Projects\n",
    "Choose **ONE** of the following projects and write to code solution in the code cell below your choice. Use comments in your code to document your solution. If you need to write comments to the grader, add a markdown cell immediately above your code solution and add your comments there. Be sure to read and follow the Notebook Instructions at the bottom of this notebook. Your grade may depend on it! "
   ]
  },
  {
   "cell_type": "markdown",
   "id": "a1c98e85-2c64-4a03-8309-d91035cca6d2",
   "metadata": {},
   "source": [
    "#### 1. Library Management System\n",
    ">  Objective: Develop a system to manage a library’s collection of books, users, and loan records. This system should allow users to borrow and return books, as well as track which books are currently available.\n",
    ">\n",
    "> Requirements\n",
    ">>- Use classes to represent books, users, and the library.\n",
    ">>- Implement encapsulation to protect class attributes.\n",
    ">>- Use inheritance to handle different types of users (e.g., students and teachers).\n",
    ">>- Demonstrate polymorphism in borrowing rules (e.g., different borrowing limits for students vs. teachers).\n",
    ">>- Include methods for adding/removing books, registering users, and managing book loans.\n",
    ">>- Include execution code to demonstrate that your solution works"
   ]
  },
  {
   "cell_type": "code",
   "execution_count": null,
   "id": "8cf9723f-1ab6-4461-90b6-637a177e0f5a",
   "metadata": {},
   "outputs": [],
   "source": "# Solution - enter your code solution below\n"
  },
  {
   "cell_type": "markdown",
   "id": "28b28d8a-dbb3-4f15-bbe0-e14504b84876",
   "metadata": {},
   "source": [
    "#### 2. Online Shopping Cart System\n",
    ">  Objective: Build a shopping cart system for an online store that manages products, shopping carts, and orders.\n",
    ">\n",
    "> Requirements\n",
    ">>- Use classes to represent products, shopping carts, and orders.\n",
    ">>- Implement encapsulation to handle product prices and cart contents securely.\n",
    ">>- Use inheritance to create different types of products (e.g., electronics, clothing).\n",
    ">>- Demonstrate polymorphism by calculating discounts based on product type.\n",
    ">>- Include execution code to demonstrate that your solution works"
   ]
  },
  {
   "cell_type": "code",
   "execution_count": null,
   "id": "e655cf9f-d2fc-4541-918f-8d85b1c04e94",
   "metadata": {},
   "outputs": [],
   "source": [
    "# Solution - enter your code solution below\n"
   ]
  },
  {
   "cell_type": "markdown",
   "id": "6708f6cf-aac7-430e-947d-6f9c8dd161f6",
   "metadata": {},
   "source": [
    "#### 3. Restaurant Reservation System\n",
    ">  Objective: Create a reservation system for a restaurant that manages tables, reservations, and customers.\n",
    ">\n",
    ">  Requirements\n",
    ">>- Use classes to represent tables, customers, and reservations.\n",
    ">>- Implement encapsulation for managing table availability and reservation details.\n",
    ">>- Use inheritance to differentiate between walk-in and advance reservations.\n",
    ">>- Demonstrate polymorphism by handling special cases (e.g., priority seating for VIP customers).\n",
    ">>- Include execution code to demonstrate that your solution works"
   ]
  },
  {
   "cell_type": "code",
   "id": "992556f0-32d7-464d-99db-6cd10b907784",
   "metadata": {
    "jupyter": {
     "is_executing": true
    }
   },
   "source": [
    "from flask import Flask, render_template, request, jsonify\n",
    "import json\n",
    "\n",
    "app = Flask(__name__)\n",
    "\n",
    "# Define OOP classes\n",
    "class Table:\n",
    "    # Constructor to initialize table properties\n",
    "    def __init__(self, table_id, capacity):\n",
    "        self.table_id = table_id\n",
    "        self.capacity = capacity\n",
    "        self.is_available = True\n",
    "\n",
    "    # Method to mark table as reserved\n",
    "    def reserve(self):\n",
    "        self.is_available = False\n",
    "\n",
    "    # Method to mark table as available\n",
    "    def release(self):\n",
    "        self.is_available = True\n",
    "\n",
    "class Customer:\n",
    "    # Constructor to initialize customer details\n",
    "    def __init__(self, name, is_vip=False):\n",
    "        self.name = name\n",
    "        self.is_vip = is_vip\n",
    "\n",
    "class Reservation:\n",
    "    # Constructor to initialize reservation details\n",
    "    def __init__(self, customer, date, time, guests):\n",
    "        self.customer = customer\n",
    "        self.date = date\n",
    "        self.time = time\n",
    "        self.guests = guests\n",
    "\n",
    "    # Method to get reservation details as a dictionary\n",
    "    def reservation_details(self):\n",
    "        return {\n",
    "            \"customer\": self.customer.name,\n",
    "            \"date\": self.date,\n",
    "            \"time\": self.time,\n",
    "            \"guests\": self.guests,\n",
    "            \"type\": \"VIP\" if self.customer.is_vip else \"Regular\"\n",
    "        }\n",
    "\n",
    "# Inheritance to handle walk-in and advance reservations\n",
    "class WalkInReservation(Reservation):\n",
    "    # Override reservation_details to include reservation type\n",
    "    def reservation_details(self):\n",
    "        details = super().reservation_details()\n",
    "        details[\"reservation_type\"] = \"Walk-In\"\n",
    "        return details\n",
    "\n",
    "class AdvanceReservation(Reservation):\n",
    "    # Override reservation_details to include reservation type\n",
    "    def reservation_details(self):\n",
    "        details = super().reservation_details()\n",
    "        details[\"reservation_type\"] = \"Advance\"\n",
    "        return details\n",
    "\n",
    "# Polymorphism: VIP customers get priority seating\n",
    "class VIPReservation(AdvanceReservation):\n",
    "    # Constructor to initialize VIP-specific details\n",
    "    def __init__(self, customer, date, time, guests, priority_table):\n",
    "        super().__init__(customer, date, time, guests)\n",
    "        self.priority_table = priority_table\n",
    "\n",
    "    # Override reservation_details to include priority table\n",
    "    def reservation_details(self):\n",
    "        details = super().reservation_details()\n",
    "        details[\"priority_table\"] = self.priority_table\n",
    "        return details\n",
    "\n",
    "# Sample tables and metadata\n",
    "tables = [\n",
    "    Table(table_id=1, capacity=2),  # Small table for 2 people\n",
    "    Table(table_id=2, capacity=4),  # Medium table for 4 people\n",
    "    Table(table_id=3, capacity=6)   # Large table for 6 people\n",
    "]\n",
    "reservations = []  # List to store reservations\n",
    "\n",
    "@app.route('/')\n",
    "def index():\n",
    "    # Render the index.html template\n",
    "    return render_template('index.html')\n",
    "\n",
    "@app.route('/reserve', methods=['POST'])\n",
    "def reserve_table():\n",
    "    data = request.json\n",
    "\n",
    "    # Validate reservation details\n",
    "    if not all(k in data for k in (\"name\", \"date\", \"time\", \"guests\")):\n",
    "        return jsonify({\"error\": \"Missing required reservation details.\"}), 400\n",
    "\n",
    "    # Check for available tables that meet the guest size requirement\n",
    "    available_table = next((t for t in tables if t.is_available and t.capacity >= data[\"guests\"]), None)\n",
    "    if not available_table:\n",
    "        return jsonify({\"error\": \"No available tables for the requested party size.\"}), 400\n",
    "\n",
    "    # Create a Customer object\n",
    "    customer = Customer(name=data[\"name\"], is_vip=data.get(\"is_vip\", False))\n",
    "\n",
    "    # Determine reservation type based on customer status\n",
    "    reservation = (\n",
    "        VIPReservation(customer, data[\"date\"], data[\"time\"], data[\"guests\"], available_table.table_id)\n",
    "        if customer.is_vip else AdvanceReservation(customer, data[\"date\"], data[\"time\"], data[\"guests\"])\n",
    "    )\n",
    "\n",
    "    # Reserve the table by marking it as unavailable\n",
    "    available_table.reserve()\n",
    "    # Add the reservation to the list of reservations\n",
    "    reservations.append(reservation)\n",
    "\n",
    "    return jsonify({\"message\": \"Reservation successful!\", \"reservation\": reservation.reservation_details()}), 201\n",
    "\n",
    "@app.route('/reservations', methods=['GET'])\n",
    "def get_reservations():\n",
    "    # Return all reservations in JSON format\n",
    "    return jsonify([res.reservation_details() for res in reservations])\n",
    "\n",
    "@app.route('/release_table', methods=['POST'])\n",
    "def release_table():\n",
    "    data = request.json\n",
    "    table_id = data.get(\"table_id\")\n",
    "\n",
    "    # Find the table by its ID and release it\n",
    "    table = next((t for t in tables if t.table_id == table_id), None)\n",
    "    if table:\n",
    "        table.release()\n",
    "        return jsonify({\"message\": f\"Table {table_id} is now available.\"}), 200\n",
    "\n",
    "    return jsonify({\"error\": \"Table not found.\"}), 404\n",
    "\n",
    "if __name__ == '__main__':\n",
    "    # Run the Flask app in debug mode\n",
    "    app.run(debug=True)\n",
    "\n"
   ],
   "outputs": [],
   "execution_count": null
  },
  {
   "cell_type": "markdown",
   "id": "5a53bd40-c45e-49da-b4d7-10da7f13dc87",
   "metadata": {},
   "source": [
    "#### 4. Vehicle Rental System\n",
    ">  Objective: Develop a vehicle rental system that manages a fleet of vehicles, customer rentals, and payment processing.\n",
    ">\n",
    ">  Requirements\n",
    ">>- Use classes to represent different types of vehicles, customers, and rental transactions.\n",
    ">>- Implement encapsulation to handle sensitive information like customer payment details.\n",
    ">>- Use inheritance to differentiate between various vehicle types (e.g., cars, trucks, motorcycles).\n",
    ">>- Demonstrate polymorphism by applying different rental pricing strategies based on vehicle type.\n",
    ">>- Include execution code to demonstrate that your solution works"
   ]
  },
  {
   "cell_type": "code",
   "id": "1a091048-b769-4550-9433-d68de6e0d2f2",
   "metadata": {
    "jupyter": {
     "is_executing": true
    }
   },
   "source": [
    "# Solution - enter your code solution below\n"
   ],
   "outputs": [],
   "execution_count": null
  },
  {
   "cell_type": "markdown",
   "id": "f0c73f2e-9616-459e-ac0d-c82da9b6ac82",
   "metadata": {},
   "source": [
    "#### 5. Online Learning Platform\n",
    ">  Objective: Create an online learning platform that manages courses, students, and instructors.\n",
    ">  \n",
    ">  Requirements\n",
    ">>- Use classes to represent courses, students, and instructors.\n",
    ">>- Implement encapsulation to manage sensitive information like student grades.\n",
    ">>- Use inheritance to handle different types of courses (e.g., free, paid, and premium).\n",
    ">>- Demonstrate polymorphism in applying different grading schemes for assignments.\n",
    ">>- Include execution code to demonstrate that your solution works"
   ]
  },
  {
   "cell_type": "code",
   "execution_count": null,
   "id": "1904cb6f-07d7-4630-bc13-59387bae91e8",
   "metadata": {},
   "outputs": [],
   "source": [
    "# Solution - enter your code solution below\n"
   ]
  },
  {
   "cell_type": "markdown",
   "id": "aee162f1-c1b7-45ac-814d-3e1d4d843ae9",
   "metadata": {},
   "source": [
    "#### 6. E-Commerce Order Processing System\n",
    ">  Objective: Build an order processing system for an online store that manages products, customers, and orders.\n",
    ">  \n",
    ">  Requirements\n",
    ">>- Use classes to represent products, customers, and orders.\n",
    ">>- Implement encapsulation for handling payment details securely.\n",
    ">>- Use inheritance for different types of products (e.g., physical goods, digital downloads).\n",
    ">>- Demonstrate polymorphism by applying different shipping costs based on product type.\n",
    ">>- Include execution code to demonstrate that your solution works"
   ]
  },
  {
   "cell_type": "code",
   "execution_count": null,
   "id": "df4f6272-0b52-4fa7-b520-a6fdf37b8f65",
   "metadata": {},
   "outputs": [],
   "source": [
    "# Solution - enter your code solution below\n"
   ]
  },
  {
   "cell_type": "markdown",
   "id": "ec8ddd19-87cd-475d-a07f-7dc8983dc636",
   "metadata": {},
   "source": [
    "### Notebook Instructions\n",
    "> Before turning in your notebook:\n",
    "> 1. Make sure you have renamed the notebook file as instructed\n",
    "> 2. Make sure you have included your signature block and that it is correct according to the instructions\n",
    "> 3. comment your code as necessary\n",
    "> 4. run all code cells and double check that they run correctly. Include you execution code in your submission. If you can't get your code to run correctly and you want partial credit, add a note for the grader in a new markdown cell directly above your code solution.<br><br>\n",
    "Turn in your notebook by uploading it to ELMS<br>\n",
    "IF the exercises involve saved data files, put your notebook and the data file(s) in a zip folder and upload the zip folder to ELMS"
   ]
  }
 ],
 "metadata": {
  "kernelspec": {
   "display_name": "Python 3 (ipykernel)",
   "language": "python",
   "name": "python3"
  },
  "language_info": {
   "codemirror_mode": {
    "name": "ipython",
    "version": 3
   },
   "file_extension": ".py",
   "mimetype": "text/x-python",
   "name": "python",
   "nbconvert_exporter": "python",
   "pygments_lexer": "ipython3",
   "version": "3.12.4"
  }
 },
 "nbformat": 4,
 "nbformat_minor": 5
}
